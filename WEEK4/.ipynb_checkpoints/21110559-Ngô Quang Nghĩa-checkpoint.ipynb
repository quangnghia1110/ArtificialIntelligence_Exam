{
 "cells": [
  {
   "cell_type": "code",
   "execution_count": 8,
   "id": "4ae67da7",
   "metadata": {},
   "outputs": [
    {
     "name": "stdout",
     "output_type": "stream",
     "text": [
      "Nhập chuỗi cần mã hóa: Hello, World!\n",
      ".... . .-.. .-.. ---  .-- --- .-. .-.. -..\n"
     ]
    }
   ],
   "source": [
    "Morse_Sample = {'A': '.-', 'B': '-...', 'C': '-.-.', 'D': '-..', 'E': '.', \n",
    "                   'F': '..-.', 'G': '--.', 'H': '....', 'I': '..', 'J': '.---', \n",
    "                   'K': '-.-', 'L': '.-..', 'M': '--', 'N': '-.', 'O': '---', \n",
    "                   'P': '.--.', 'Q': '--.-', 'R': '.-.', 'S': '...', 'T': '-', \n",
    "                   'U': '..-', 'V': '...-', 'W': '.--', 'X': '-..-', 'Y': '-.--', \n",
    "                   'Z': '--..', '1': '.----', '2': '..---', '3': '...--', '4': '....-', \n",
    "                   '5': '.....', '6': '-....', '7': '--...', '8': '---..', '9': '----.', \n",
    "                   '0': '-----'}\n",
    "def word_to_morse(text):\n",
    "    char_morse = ''\n",
    "    for char in text:\n",
    "        if char.upper() in Morse_Sample:\n",
    "            char_morse = char_morse + Morse_Sample[char.upper()] + ' '\n",
    "        elif char == ' ':\n",
    "            char_morse = char_morse + ' '\n",
    "    return char_morse.strip()\n",
    "text = input(\"Nhập chuỗi cần mã hóa: \")\n",
    "print(word_to_morse(text))\n"
   ]
  },
  {
   "cell_type": "code",
   "execution_count": 7,
   "id": "f280b405",
   "metadata": {},
   "outputs": [
    {
     "name": "stdout",
     "output_type": "stream",
     "text": [
      "Nhập vào chuỗi cần mã hóa: T2N 1N4\n",
      "Thanh pho o Alberta\n"
     ]
    }
   ],
   "source": [
    "def telegram_code(code):\n",
    "    region_dict = {'A': 'Newfoundland', 'B': 'Nova Scotia', 'C': 'Prince Edward Island', 'E': 'New Brunswick','G': 'Quebec',\n",
    "                 'H': 'Quebec', 'J': 'Quebec', 'K': 'Ontario', 'L': 'Ontario', 'M': 'Ontario', 'N': 'Ontario', \n",
    "                 'P': 'Ontario', 'R': 'Manitoba', 'S': 'Saskatchewan', 'T': 'Alberta', 'V': 'British Columbia', \n",
    "                 'X': 'Nunavut va Northwest Territories', 'Y': 'Yukon'}\n",
    "    city_set = {'1', '2', '3', '4', '5', '6', '7', '8', '9'}\n",
    "\n",
    "    region = code[0]\n",
    "    city_or_rural = code[1]\n",
    "    \n",
    "    if region in region_dict:\n",
    "        region_name = region_dict[region]\n",
    "    else:\n",
    "        return False\n",
    "        \n",
    "    if city_or_rural == '0':\n",
    "        city_or_rural_name = 'Ngoai thanh'\n",
    "    elif city_or_rural in city_set:\n",
    "        city_or_rural_name = 'Thanh pho'\n",
    "    else:\n",
    "        return False\n",
    "        \n",
    "    return f'{city_or_rural_name} o {region_name}'\n",
    "\n",
    "code = input(\"Nhập vào chuỗi cần mã hóa: \")\n",
    "print(telegram_code(code))"
   ]
  },
  {
   "cell_type": "code",
   "execution_count": null,
   "id": "f0efe445",
   "metadata": {},
   "outputs": [],
   "source": []
  }
 ],
 "metadata": {
  "kernelspec": {
   "display_name": "Python 3 (ipykernel)",
   "language": "python",
   "name": "python3"
  },
  "language_info": {
   "codemirror_mode": {
    "name": "ipython",
    "version": 3
   },
   "file_extension": ".py",
   "mimetype": "text/x-python",
   "name": "python",
   "nbconvert_exporter": "python",
   "pygments_lexer": "ipython3",
   "version": "3.11.1"
  },
  "vscode": {
   "interpreter": {
    "hash": "41d169863fa9a8239ab807d4041b9a4ec09dc165ee659486a4a91b094d10fe08"
   }
  }
 },
 "nbformat": 4,
 "nbformat_minor": 5
}
