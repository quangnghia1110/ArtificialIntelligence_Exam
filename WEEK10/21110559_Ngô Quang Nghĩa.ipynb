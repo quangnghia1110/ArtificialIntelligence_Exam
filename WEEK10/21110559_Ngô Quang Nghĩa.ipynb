{
 "cells": [
  {
   "cell_type": "code",
   "execution_count": 157,
   "id": "8c45cd5a",
   "metadata": {},
   "outputs": [],
   "source": [
    "class Problem:\n",
    "    def __init__(self):\n",
    "        self.goal = None\n",
    "        \n",
    "    def get_state(self): pass\n",
    "    def get_pos_actions(self): pass\n",
    "    def action(self, actions): pass\n",
    "    def cost(self, action): pass"
   ]
  },
  {
   "cell_type": "code",
   "execution_count": 158,
   "id": "411cfdd6",
   "metadata": {},
   "outputs": [],
   "source": [
    "class Any:\n",
    "    def __init__(self, *vals):\n",
    "        self.vals = vals\n",
    "        \n",
    "    def __eq__(self, other):\n",
    "        if len(self.vals) == 0 or\\\n",
    "            other in self.vals:\n",
    "            return True\n",
    "        return False"
   ]
  },
  {
   "cell_type": "code",
   "execution_count": 159,
   "id": "71578776",
   "metadata": {},
   "outputs": [],
   "source": [
    "import random\n",
    "\n",
    "class Mal_cleaner(Problem):\n",
    "    def __init__(self):\n",
    "        Problem.__init__(self)\n",
    "        self.rooms=['Dirty']*2\n",
    "        self.loc='A'\n",
    "        self.goal=(Any('A','B'),'Clean','Clean')\n",
    "    \n",
    "    def get_state(self):\n",
    "        return (self.loc,*self.rooms)\n",
    "        \n",
    "    def get_pos_actions(self):\n",
    "        if self.loc=='B': yield 'Left'\n",
    "        if self.loc=='A': yield 'Right'\n",
    "        yield 'Suck'\n",
    "    \n",
    "    def action(self, actions):\n",
    "        for action in actions:\n",
    "            if action not in self.get_pos_actions():continue\n",
    "            if action=='Left':\n",
    "                self.loc='A'\n",
    "            elif action=='Right':\n",
    "                self.loc='B'\n",
    "            elif action=='Suck':\n",
    "                room_ind=ord(self.loc)-65\n",
    "                if self.rooms[room_ind]=='Dirty':\n",
    "                    if random.randint(0,1):\n",
    "                        self.rooms=['Clean']*2\n",
    "                    else:\n",
    "                        self.rooms[room_ind]='Clean'\n",
    "                elif random.randint(0, 1):\n",
    "                    self.rooms[room_ind]='Dirty'\n",
    "    \n",
    "    def cost(self, action):\n",
    "        return 1"
   ]
  },
  {
   "cell_type": "code",
   "execution_count": 160,
   "id": "cd27039a",
   "metadata": {},
   "outputs": [],
   "source": [
    "from typing import Type\n",
    "\n",
    "class Problem_solver:\n",
    "    def __init__(self): pass\n",
    "    def train(self, problem: Type[Problem]): pass\n",
    "    def solve(self): pass"
   ]
  },
  {
   "cell_type": "code",
   "execution_count": 161,
   "id": "42cf8726",
   "metadata": {},
   "outputs": [],
   "source": [
    "class And_or_search(Problem_solver):\n",
    "    def __init__(self):\n",
    "        Problem_solver.__init__(self)\n",
    "        \n",
    "    # states_func: Return belief state (a set of possible states)\n",
    "    def train(self, problem: Type[Problem], states_func, pos_actions_func):\n",
    "        Problem_solver.train(self, problem)\n",
    "        self.problem=problem\n",
    "        self.states_func=states_func\n",
    "        self.pos_actions_func=pos_actions_func\n",
    "        \n",
    "    def solve(self):\n",
    "        rules=self.__search()\n",
    "        return rules\n",
    "    \n",
    "    def __search(self):\n",
    "        return self.__or_search(self.problem.get_state(),[])\n",
    "        \n",
    "    def __or_search(self, state, path):\n",
    "        if state==self.problem.goal:\n",
    "            return []\n",
    "        if self.__is_cycle(path):\n",
    "            return None\n",
    "        for action in self.pos_actions_func(state):\n",
    "            plan=self.__and_search(list(self.states_func(state, action)),[state,*path])\n",
    "            if plan is not None:\n",
    "                return [action,*plan]\n",
    "        return None\n",
    "                \n",
    "    def __and_search(self, states, path):\n",
    "        plans=[None]*len(states)\n",
    "        for i, state in enumerate(states):\n",
    "            t = self.__or_search(state,path)\n",
    "            if t is None:\n",
    "                return None\n",
    "            plans[i] = {\n",
    "                'state': state,\n",
    "                'action': t\n",
    "            }\n",
    "        return plans\n",
    "        \n",
    "    def __is_cycle(self,path):\n",
    "        return len(set(path))!=len(path)"
   ]
  },
  {
   "cell_type": "code",
   "execution_count": 162,
   "id": "1f5f779e",
   "metadata": {},
   "outputs": [],
   "source": [
    "def get_pos_actions(state):\n",
    "    if state[0]=='B':yield 'Left'\n",
    "    if state[0]=='A':yield 'Right'\n",
    "    yield 'Suck'"
   ]
  },
  {
   "cell_type": "code",
   "execution_count": 163,
   "id": "be1ab27d",
   "metadata": {},
   "outputs": [],
   "source": [
    "def get_states(state, action):\n",
    "    loc, rooms=state[0],[state[1],state[2]]\n",
    "    if action=='Left':\n",
    "        yield ('A',rooms[0],rooms[1])\n",
    "    elif action=='Right':\n",
    "        yield ('B',rooms[0],rooms[1])\n",
    "    elif action=='Suck':\n",
    "        room_ind=ord(loc)-65\n",
    "        if rooms[room_ind]=='Dirty':\n",
    "            yield (loc,'Clean','Clean')\n",
    "            rooms[room_ind]='Clean'\n",
    "            yield (loc,*rooms)\n",
    "        else:\n",
    "            yield state\n",
    "            rooms[room_ind]='Dirty'\n",
    "            yield (loc,*rooms)"
   ]
  },
  {
   "cell_type": "code",
   "execution_count": 164,
   "id": "92e1da48",
   "metadata": {},
   "outputs": [
    {
     "data": {
      "text/plain": [
       "('A', 'Dirty', 'Dirty')"
      ]
     },
     "execution_count": 164,
     "metadata": {},
     "output_type": "execute_result"
    }
   ],
   "source": [
    "mal_cleaner = Mal_cleaner()\n",
    "mal_cleaner.get_state()"
   ]
  },
  {
   "cell_type": "code",
   "execution_count": 165,
   "id": "c18bf4a5",
   "metadata": {},
   "outputs": [],
   "source": [
    "solver = And_or_search()\n",
    "solver.train(mal_cleaner, get_states, get_pos_actions)\n",
    "plan = solver.solve()"
   ]
  },
  {
   "cell_type": "code",
   "execution_count": 166,
   "id": "7550ffb9",
   "metadata": {},
   "outputs": [
    {
     "name": "stdout",
     "output_type": "stream",
     "text": [
      "['Right', {'state': ('B', 'Dirty', 'Dirty'), 'action': ['Suck', {'state': ('B', 'Clean', 'Clean'), 'action': []}, {'state': ('B', 'Dirty', 'Clean'), 'action': ['Left', {'state': ('A', 'Dirty', 'Clean'), 'action': ['Suck', {'state': ('A', 'Clean', 'Clean'), 'action': []}, {'state': ('A', 'Clean', 'Clean'), 'action': []}]}]}]}]\n"
     ]
    }
   ],
   "source": [
    "print(plan)"
   ]
  },
  {
   "cell_type": "code",
   "execution_count": 171,
   "id": "8dafc7df",
   "metadata": {},
   "outputs": [],
   "source": [
    "def get_readable_plan(plan):\n",
    "    result = \"\"\n",
    "    for i, action in enumerate(plan):\n",
    "        if isinstance(action, str):\n",
    "            result+=f\"Do {action}\\n\"\n",
    "        elif isinstance(action, dict):\n",
    "            state = action['state']\n",
    "            action_plan = action['action']\n",
    "            result+=\"Do \" + action_plan[0]\n",
    "            for action_item in action_plan:\n",
    "                if isinstance(action_item, dict):\n",
    "                    next_state = action_item['state']\n",
    "                    subplan = action_item['action']\n",
    "                    if next_state == ('B', 'Dirty', 'Clean'):\n",
    "                        result+=\"\\nif state == ('B', 'Dirty', 'Clean')\\n\"\n",
    "                        for action in subplan:\n",
    "                            if isinstance(action, str):\n",
    "                                result+=f\"    Do {action}\\n\"\n",
    "                            elif isinstance(action, dict):\n",
    "                                sub_actions = action.get('action', [])\n",
    "                                for action in sub_actions:\n",
    "                                    if isinstance(action, str):\n",
    "                                        result+=f\"    Do {action}\"\n",
    "                        break\n",
    "    return result"
   ]
  },
  {
   "cell_type": "code",
   "execution_count": 172,
   "id": "f83b128c",
   "metadata": {},
   "outputs": [
    {
     "name": "stdout",
     "output_type": "stream",
     "text": [
      "Do Right\n",
      "Do Suck\n",
      "if state == ('B', 'Dirty', 'Clean')\n",
      "    Do Left\n",
      "    Do Suck\n"
     ]
    }
   ],
   "source": [
    "print(get_readable_plan(plan))"
   ]
  },
  {
   "cell_type": "code",
   "execution_count": null,
   "id": "9e0cb743",
   "metadata": {},
   "outputs": [],
   "source": []
  }
 ],
 "metadata": {
  "kernelspec": {
   "display_name": "Python 3 (ipykernel)",
   "language": "python",
   "name": "python3"
  },
  "language_info": {
   "codemirror_mode": {
    "name": "ipython",
    "version": 3
   },
   "file_extension": ".py",
   "mimetype": "text/x-python",
   "name": "python",
   "nbconvert_exporter": "python",
   "pygments_lexer": "ipython3",
   "version": "3.11.1"
  }
 },
 "nbformat": 4,
 "nbformat_minor": 5
}
