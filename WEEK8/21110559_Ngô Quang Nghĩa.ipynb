{
 "cells": [
  {
   "cell_type": "markdown",
   "id": "25da4b86",
   "metadata": {},
   "source": [
    "# BTVN NHÓM 03\n",
    "#### Bài 1: Sử dụng simulated annealing giải quyết bài toán tìm giá trị lớn nhất của hàm số   trong khoảng [-1;3]"
   ]
  },
  {
   "cell_type": "code",
   "execution_count": 180,
   "id": "b5fe8562",
   "metadata": {},
   "outputs": [
    {
     "name": "stdout",
     "output_type": "stream",
     "text": [
      "x =  1.1013359354041474 \n",
      "f(x) =  9.142024472365438\n"
     ]
    }
   ],
   "source": [
    "import random\n",
    "import math\n",
    "\n",
    "def simulated_annealing(objective_func,initial_solution,temperature,cooling_rate):\n",
    "    current_solution=initial_solution\n",
    "    best_solution=current_solution\n",
    "    while temperature>1:\n",
    "        neighbor=neighbor_func(current_solution)\n",
    "        current_energy=objective_func(current_solution)\n",
    "        neighbor_energy=objective_func(neighbor)\n",
    "        delta_energy=neighbor_energy-current_energy\n",
    "        if delta_energy>0:\n",
    "            current_solution=neighbor\n",
    "            if objective_func(current_solution)<objective_func(best_solution):\n",
    "                best_solution=current_solution\n",
    "        else:\n",
    "            if random.random()<math.exp(-delta_energy/temperature):\n",
    "                current_solution=neighbor\n",
    "        temperature*=(1-cooling_rate)\n",
    "    return (best_solution, objective_func(best_solution))\n",
    "\n",
    "def objective_func(x):\n",
    "    return -(-5*x**4+3*x**3+7*x**2+4)\n",
    "\n",
    "def neighbor_func(solution):\n",
    "    return max(min(solution + random.uniform(-1, 1), 3), -1)\n",
    "\n",
    "temperature=1000\n",
    "cooling_rate=0.01\n",
    "initial_solution=random.uniform(-1,3)\n",
    "x,fx=simulated_annealing(objective_func,initial_solution,temperature,cooling_rate)\n",
    "print('x = ',x,'\\nf(x) = ',-fx)"
   ]
  },
  {
   "cell_type": "markdown",
   "id": "ccffa081",
   "metadata": {},
   "source": [
    "#### Bài 2: Cho n công việc cần phải thực hiện, mỗi việc thực hiện trong 1 đơn vị thời gian. Việc làm thứ i sẽ đem lại  Wi tiền thưởng nếu hoàn thành đúng hạn di [?] . Tìm cách thực hiện các công việc để lợi nhận cao nhất ?"
   ]
  },
  {
   "cell_type": "code",
   "execution_count": 246,
   "id": "81c44d8c",
   "metadata": {},
   "outputs": [
    {
     "name": "stdout",
     "output_type": "stream",
     "text": [
      "Best solution [8, 7, 6, 2, 1, 5, 4, 3]\n",
      "Best cost:  100\n"
     ]
    }
   ],
   "source": [
    "import random\n",
    "import math\n",
    "\n",
    "def simulated_annealing(objective_func,initial_solution,temperature,cooling_rate):\n",
    "    current_solution=initial_solution\n",
    "    best_solution=current_solution\n",
    "    while temperature>1:\n",
    "        neighbor=neighbor_func(current_solution)\n",
    "        current_energy=objective_func(current_solution)\n",
    "        neighbor_energy=objective_func(neighbor)\n",
    "        delta_energy=neighbor_energy-current_energy\n",
    "        if delta_energy>0:\n",
    "            current_solution=neighbor\n",
    "            if objective_func(current_solution)<objective_func(best_solution):\n",
    "                best_solution=current_solution\n",
    "        else:\n",
    "            if random.random()<math.exp(-delta_energy/temperature):\n",
    "                current_solution=neighbor\n",
    "        temperature*=(1-cooling_rate)\n",
    "    return (best_solution, objective_func(best_solution))\n",
    "\n",
    "def objective_func(solution):\n",
    "    def cost_func(temp):\n",
    "        total = 0\n",
    "        for i, temp in enumerate(temp):\n",
    "            total+=temps[temp][1] if i+1 <= temps[temp][0] else 0\n",
    "        return total\n",
    "    return cost_func\n",
    "\n",
    "def neighbor_func(solution):\n",
    "    i, j = random.sample(range(len(solution)), 2)\n",
    "    return [solution[i] if x == j else solution[j] if x == i else solution[x] for x in range(len(solution))]\n",
    "\n",
    "temperature = 10000\n",
    "cooling_rate = 0.01\n",
    "temps = [(4, 20), (2, 40), (4, 50), (6, 40), (3, 90), (7, 60), (9, 10), (2, 30)]\n",
    "initial_solution = list(range(len(temps)))\n",
    "random.shuffle(initial_solution)\n",
    "cost_func = objective_func(temps)\n",
    "solution, cost = simulated_annealing(cost_func, initial_solution, temperature, cooling_rate)\n",
    "print(\"Best solution\", [job+1 for job in solution])\n",
    "print('Best cost: ', cost)"
   ]
  },
  {
   "cell_type": "code",
   "execution_count": null,
   "id": "8f7499c1",
   "metadata": {},
   "outputs": [],
   "source": []
  },
  {
   "cell_type": "markdown",
   "id": "bdf68940",
   "metadata": {},
   "source": [
    "# BTVN NHÓM 04: LOCAL BEAM SEARCH\n",
    "#### Bài 1: Hãy sử dụng thuật toán Local Beam Search với k = 2 để tìm đường đi từ S đến G"
   ]
  },
  {
   "cell_type": "code",
   "execution_count": 254,
   "id": "97d2e8e5",
   "metadata": {},
   "outputs": [
    {
     "name": "stdout",
     "output_type": "stream",
     "text": [
      "['S', 'B', 'D', 'H', 'I', 'G1'], Value: 18\n",
      "['S', 'B', 'D', 'H', 'J', 'G2'], Value: 20\n"
     ]
    }
   ],
   "source": [
    "import random\n",
    "\n",
    "graph = {\n",
    "    'A': {'B': 2}, 'B': {'C': 2, 'D': 3, 'E': 5}, 'C': {'F': 3}, \n",
    "    'D': {'E': 4, 'H': 6}, 'E': {'F': 4, 'I': 5}, 'F': {'I': 3},\n",
    "    'G1': {}, 'G2': {}, 'H': {'I': 3, 'J': 5},'I': {'G1': 2, 'J': 4},\n",
    "    'J': {'G2': 2}, 'S': {'A': 1, 'B': 4}\n",
    "}\n",
    "\n",
    "def objective_func(solution):\n",
    "    if solution[-1] == 'G1' or solution[-1] == 'G2':\n",
    "        return sum(graph[solution[i]][solution[i+1]] for i in range(len(solution)-1))\n",
    "    else:\n",
    "        return float('inf')\n",
    "\n",
    "def create_temp(solution):\n",
    "    return [solution + [superclass] for superclass in graph[solution[-1]] if superclass not in solution]\n",
    "\n",
    "def init_solution(k):\n",
    "    solutions = []\n",
    "    for i in range(k):\n",
    "        solution = ['S']\n",
    "        while len(solution) < 4 and (temps:=create_temp(solution)):\n",
    "            solution = random.choice(temps)\n",
    "        solutions.append(solution)\n",
    "    return solutions\n",
    "def local_beam_search(k):\n",
    "    solutions=init_solution(k)\n",
    "    while True:\n",
    "        subclass = [temp for solution in solutions for temp in create_temp(solution)]\n",
    "        if not subclass:\n",
    "            break\n",
    "        solutions = sorted(subclass, key=lambda x: objective_func(x))[:k]\n",
    "    return solutions\n",
    "\n",
    "k = 2\n",
    "results = local_beam_search(k)\n",
    "for result in results:\n",
    "    print(f\"{result}, Value: {objective_func(result)}\")"
   ]
  },
  {
   "cell_type": "markdown",
   "id": "4a161081",
   "metadata": {},
   "source": [
    "#### Bài 2: Tìm đường đi ngắn nhất"
   ]
  },
  {
   "cell_type": "code",
   "execution_count": 248,
   "id": "9c5cb737",
   "metadata": {},
   "outputs": [
    {
     "name": "stdout",
     "output_type": "stream",
     "text": [
      "['Start', 'Những', 'Chú', 'Báo', 'Đốm'], Value: 22\n",
      "['Start', 'Trí', 'Tuệ', 'Sáng', 'Tạo'], Value: 26\n"
     ]
    }
   ],
   "source": [
    "import random\n",
    "\n",
    "graph = {\n",
    "    'Start': {'Những': 8, 'Thuật': 12, 'Trí': 9},\n",
    "        'Những': {'Chú': 7, 'Con': 9},\n",
    "            'Chú': {'Heo': 7, 'Vịt': 6, 'Báo': 3},\n",
    "                'Heo': {'Con': 4}, \n",
    "                    'Con': {},   \n",
    "                'Vịt': {'Dật': 5}, \n",
    "                    'Dật': {},\n",
    "                'Báo': {'Đốm': 4}, \n",
    "                    'Đốm': {},\n",
    "            'Con': {'Ong': 6},\n",
    "                'Ong': {'Chăm Chỉ': 4}, \n",
    "                    'Chăm Chỉ': {},\n",
    "    \n",
    "        'Thuật': {'Toán': 12},\n",
    "            'Toán': {'Tìm': 3, 'Sắp': 4},\n",
    "                'Tìm': {'Kiếm': 5}, \n",
    "                    'Kiếm': {}, \n",
    "                'Sắp': {'Xếp': 6}, \n",
    "                    'Xếp': {},\n",
    "    \n",
    "        'Trí': {'Dũng': 15, 'Tuệ': 6},\n",
    "            'Dũng': {'Song': 8},\n",
    "                'Song': {'Toàn': 5},  \n",
    "                    'Toàn': {}, \n",
    "\n",
    "            'Tuệ': {'Nhân': 5, 'Sáng': 8},\n",
    "                'Nhân': {'Tạo': 7, 'Ái': 9},\n",
    "                    'Tạo': {}, \n",
    "                    'Ái': {}, \n",
    "                'Sáng': {'Tạo': 3},\n",
    "                    'Tạo': {}\n",
    "}\n",
    "\n",
    "def objective_func(solution):\n",
    "    if solution[-1] == 'Con' or solution[-1] == 'Dật' or solution[-1] == 'Đốm' or  \\\n",
    "       solution[-1] == 'Chăm chỉ' or solution[-1] == 'Kiếm' or solution[-1] == 'Xếp' or\\\n",
    "       solution[-1] == 'Toàn' or solution[-1] == 'Tạo' or solution[-1] == 'Ái':\n",
    "        return sum(graph[solution[i]][solution[i+1]] for i in range(len(solution)-1))\n",
    "    else:\n",
    "        return float('inf')\n",
    "\n",
    "def create_temp(solution):\n",
    "    return [solution + [superclass] for superclass in graph[solution[-1]] if superclass not in solution]\n",
    "\n",
    "def init_solution(k):\n",
    "    solutions = []\n",
    "    for i in range(k):\n",
    "        solution = ['Start']\n",
    "        while len(solution) < 4 and (temps:=create_temp(solution)):\n",
    "            solution = random.choice(temps)\n",
    "        solutions.append(solution)\n",
    "    return solutions\n",
    "\n",
    "def local_beam_search(k):\n",
    "    solutions=init_solution(k)\n",
    "    while True:\n",
    "        subclass = [temp for solution in solutions for temp in create_temp(solution)]\n",
    "        if not subclass:\n",
    "            break\n",
    "        solutions = sorted(subclass, key=lambda x: objective_func(x))[:k]\n",
    "    return solutions\n",
    "\n",
    "k = 2\n",
    "results = local_beam_search(k)\n",
    "for result in results:\n",
    "    print(f\"{result}, Value: {objective_func(result)}\")"
   ]
  },
  {
   "cell_type": "code",
   "execution_count": null,
   "id": "b4b1a52b",
   "metadata": {},
   "outputs": [],
   "source": []
  },
  {
   "cell_type": "code",
   "execution_count": null,
   "id": "c53bcc39",
   "metadata": {},
   "outputs": [],
   "source": []
  }
 ],
 "metadata": {
  "kernelspec": {
   "display_name": "Python 3 (ipykernel)",
   "language": "python",
   "name": "python3"
  },
  "language_info": {
   "codemirror_mode": {
    "name": "ipython",
    "version": 3
   },
   "file_extension": ".py",
   "mimetype": "text/x-python",
   "name": "python",
   "nbconvert_exporter": "python",
   "pygments_lexer": "ipython3",
   "version": "3.11.1"
  }
 },
 "nbformat": 4,
 "nbformat_minor": 5
}
